{
 "cells": [
  {
   "cell_type": "code",
   "execution_count": 1,
   "metadata": {},
   "outputs": [
    {
     "name": "stdout",
     "output_type": "stream",
     "text": [
      "[nltk_data] Downloading package stopwords to\n",
      "[nltk_data]     C:\\Users\\Sachin\\AppData\\Roaming\\nltk_data...\n",
      "[nltk_data]   Package stopwords is already up-to-date!\n"
     ]
    }
   ],
   "source": [
    "#importing necessary libraries\n",
    "import pandas as pd\n",
    "import numpy as np\n",
    "import re\n",
    "import pickle \n",
    "import nltk\n",
    "from nltk.stem import WordNetLemmatizer\n",
    "from nltk.corpus import stopwords\n",
    "nltk.download('stopwords')\n",
    "import seaborn as sns\n",
    "from sklearn.model_selection import train_test_split\n",
    "from sklearn.pipeline import Pipeline\n",
    "from sklearn.feature_extraction.text import TfidfVectorizer\n",
    "from sklearn.metrics import confusion_matrix\n",
    "from sklearn import metrics\n",
    "from sklearn.model_selection import GridSearchCV\n",
    "from sklearn.svm import SVC, LinearSVC\n",
    "from sklearn.ensemble import BaggingClassifier\n",
    "import matplotlib.pyplot as plt"
   ]
  },
  {
   "cell_type": "markdown",
   "metadata": {},
   "source": [
    "## Dataset preparation"
   ]
  },
  {
   "cell_type": "code",
   "execution_count": 2,
   "metadata": {},
   "outputs": [
    {
     "data": {
      "text/html": [
       "<div>\n",
       "<style scoped>\n",
       "    .dataframe tbody tr th:only-of-type {\n",
       "        vertical-align: middle;\n",
       "    }\n",
       "\n",
       "    .dataframe tbody tr th {\n",
       "        vertical-align: top;\n",
       "    }\n",
       "\n",
       "    .dataframe thead th {\n",
       "        text-align: right;\n",
       "    }\n",
       "</style>\n",
       "<table border=\"1\" class=\"dataframe\">\n",
       "  <thead>\n",
       "    <tr style=\"text-align: right;\">\n",
       "      <th></th>\n",
       "      <th>Unnamed: 0</th>\n",
       "      <th>article</th>\n",
       "      <th>category</th>\n",
       "    </tr>\n",
       "  </thead>\n",
       "  <tbody>\n",
       "    <tr>\n",
       "      <th>0</th>\n",
       "      <td>24644</td>\n",
       "      <td>Global emissions targets will lead to 4C tempe...</td>\n",
       "      <td>CLIMATE</td>\n",
       "    </tr>\n",
       "    <tr>\n",
       "      <th>1</th>\n",
       "      <td>115540</td>\n",
       "      <td>Climate sceptics place bets on world cooling d...</td>\n",
       "      <td>SCIENCE</td>\n",
       "    </tr>\n",
       "    <tr>\n",
       "      <th>2</th>\n",
       "      <td>113058</td>\n",
       "      <td>This brain parasite can increase your chances ...</td>\n",
       "      <td>SOCIETY</td>\n",
       "    </tr>\n",
       "    <tr>\n",
       "      <th>3</th>\n",
       "      <td>79582</td>\n",
       "      <td>In pictures: RSPB's Big Garden Birdwatch - wha...</td>\n",
       "      <td>CLIMATE</td>\n",
       "    </tr>\n",
       "    <tr>\n",
       "      <th>4</th>\n",
       "      <td>76416</td>\n",
       "      <td>Duma wants convincing arguments for Kyoto rati...</td>\n",
       "      <td>BUSINESS</td>\n",
       "    </tr>\n",
       "  </tbody>\n",
       "</table>\n",
       "</div>"
      ],
      "text/plain": [
       "   Unnamed: 0                                            article  category\n",
       "0       24644  Global emissions targets will lead to 4C tempe...   CLIMATE\n",
       "1      115540  Climate sceptics place bets on world cooling d...   SCIENCE\n",
       "2      113058  This brain parasite can increase your chances ...   SOCIETY\n",
       "3       79582  In pictures: RSPB's Big Garden Birdwatch - wha...   CLIMATE\n",
       "4       76416  Duma wants convincing arguments for Kyoto rati...  BUSINESS"
      ]
     },
     "execution_count": 2,
     "metadata": {},
     "output_type": "execute_result"
    }
   ],
   "source": [
    "#reading dataset\n",
    "df=pd.read_csv('train.csv')\n",
    "df.head()"
   ]
  },
  {
   "cell_type": "code",
   "execution_count": 3,
   "metadata": {},
   "outputs": [
    {
     "data": {
      "image/png": "[encoded data removed]",
      "text/plain": [
       "<matplotlib.figure.Figure at 0x1b482de7d68>"
      ]
     },
     "metadata": {},
     "output_type": "display_data"
    }
   ],
   "source": [
    "#check for imbalance class\n",
    "fig = plt.figure(figsize=(8,6))\n",
    "df.groupby('category')['article'].count().plot.bar(ylim=0)\n",
    "plt.show()"
   ]
  },
  {
   "cell_type": "code",
   "execution_count": 4,
   "metadata": {},
   "outputs": [],
   "source": [
    "#creating new id column based of category factorization\n",
    "df['categoryid']=df['category'].factorize()[0]"
   ]
  },
  {
   "cell_type": "code",
   "execution_count": 5,
   "metadata": {},
   "outputs": [],
   "source": [
    "X,y = df['article'],df['categoryid']"
   ]
  },
  {
   "cell_type": "code",
   "execution_count": 6,
   "metadata": {},
   "outputs": [
    {
     "data": {
      "text/html": [
       "<div>\n",
       "<style scoped>\n",
       "    .dataframe tbody tr th:only-of-type {\n",
       "        vertical-align: middle;\n",
       "    }\n",
       "\n",
       "    .dataframe tbody tr th {\n",
       "        vertical-align: top;\n",
       "    }\n",
       "\n",
       "    .dataframe thead th {\n",
       "        text-align: right;\n",
       "    }\n",
       "</style>\n",
       "<table border=\"1\" class=\"dataframe\">\n",
       "  <thead>\n",
       "    <tr style=\"text-align: right;\">\n",
       "      <th></th>\n",
       "      <th>Unnamed: 0</th>\n",
       "      <th>article</th>\n",
       "      <th>category</th>\n",
       "      <th>categoryid</th>\n",
       "    </tr>\n",
       "  </thead>\n",
       "  <tbody>\n",
       "    <tr>\n",
       "      <th>0</th>\n",
       "      <td>24644</td>\n",
       "      <td>Global emissions targets will lead to 4C tempe...</td>\n",
       "      <td>CLIMATE</td>\n",
       "      <td>0</td>\n",
       "    </tr>\n",
       "    <tr>\n",
       "      <th>1</th>\n",
       "      <td>115540</td>\n",
       "      <td>Climate sceptics place bets on world cooling d...</td>\n",
       "      <td>SCIENCE</td>\n",
       "      <td>1</td>\n",
       "    </tr>\n",
       "    <tr>\n",
       "      <th>2</th>\n",
       "      <td>113058</td>\n",
       "      <td>This brain parasite can increase your chances ...</td>\n",
       "      <td>SOCIETY</td>\n",
       "      <td>2</td>\n",
       "    </tr>\n",
       "    <tr>\n",
       "      <th>3</th>\n",
       "      <td>79582</td>\n",
       "      <td>In pictures: RSPB's Big Garden Birdwatch - wha...</td>\n",
       "      <td>CLIMATE</td>\n",
       "      <td>0</td>\n",
       "    </tr>\n",
       "    <tr>\n",
       "      <th>4</th>\n",
       "      <td>76416</td>\n",
       "      <td>Duma wants convincing arguments for Kyoto rati...</td>\n",
       "      <td>BUSINESS</td>\n",
       "      <td>3</td>\n",
       "    </tr>\n",
       "  </tbody>\n",
       "</table>\n",
       "</div>"
      ],
      "text/plain": [
       "   Unnamed: 0                                            article  category  \\\n",
       "0       24644  Global emissions targets will lead to 4C tempe...   CLIMATE   \n",
       "1      115540  Climate sceptics place bets on world cooling d...   SCIENCE   \n",
       "2      113058  This brain parasite can increase your chances ...   SOCIETY   \n",
       "3       79582  In pictures: RSPB's Big Garden Birdwatch - wha...   CLIMATE   \n",
       "4       76416  Duma wants convincing arguments for Kyoto rati...  BUSINESS   \n",
       "\n",
       "   categoryid  \n",
       "0           0  \n",
       "1           1  \n",
       "2           2  \n",
       "3           0  \n",
       "4           3  "
      ]
     },
     "execution_count": 6,
     "metadata": {},
     "output_type": "execute_result"
    }
   ],
   "source": [
    "df.head()"
   ]
  },
  {
   "cell_type": "code",
   "execution_count": 7,
   "metadata": {},
   "outputs": [],
   "source": [
    "# Pickling the dataset\n",
    "with open('X.pickle','wb') as f:\n",
    "    pickle.dump(X,f)\n",
    "    \n",
    "with open('y.pickle','wb') as f:\n",
    "    pickle.dump(y,f)\n",
    "\n",
    "# Unpickling dataset\n",
    "X_in = open('X.pickle','rb')\n",
    "y_in = open('y.pickle','rb')\n",
    "X = pickle.load(X_in)\n",
    "y = pickle.load(y_in)"
   ]
  },
  {
   "cell_type": "markdown",
   "metadata": {},
   "source": [
    "## Dataset Cleaning-EDA"
   ]
  },
  {
   "cell_type": "code",
   "execution_count": 8,
   "metadata": {},
   "outputs": [],
   "source": [
    "# Creating the corpus\n",
    "#lemmatizer = WordNetLemmatizer()\n",
    "corpus = []\n",
    "for i in range(0, len(X)):\n",
    "    article = re.sub(r'\\W', ' ', str(X[i]))\n",
    "    article = article.lower()\n",
    "    article = re.sub(r'^[a-z]\\s+', ' ', article)\n",
    "    article = re.sub(r'\\s+[a-z]\\s+', ' ',article)\n",
    "    article = re.sub(r'\\s+', ' ', article)\n",
    "    #article = [lemmatizer.lemmatize(word) for word in article if not word in set(stopwords.words('english'))]\n",
    "    corpus.append(article)"
   ]
  },
  {
   "cell_type": "markdown",
   "metadata": {},
   "source": [
    "## Feature Engineering"
   ]
  },
  {
   "cell_type": "code",
   "execution_count": 9,
   "metadata": {},
   "outputs": [],
   "source": [
    "# Creating the BOW model\n",
    "vectorizer = TfidfVectorizer(max_features = 2000, min_df = 3, max_df = 0.6, stop_words = stopwords.words('english'))\n",
    "X = vectorizer.fit_transform(corpus).toarray()"
   ]
  },
  {
   "cell_type": "markdown",
   "metadata": {},
   "source": [
    "## Model Building"
   ]
  },
  {
   "cell_type": "code",
   "execution_count": 10,
   "metadata": {},
   "outputs": [],
   "source": [
    "# Splitting the dataset into the Training set and Test set\n",
    "text_train, text_test, sent_train, sent_test = train_test_split(X, y, test_size = 0.20)"
   ]
  },
  {
   "cell_type": "code",
   "execution_count": 11,
   "metadata": {},
   "outputs": [],
   "source": [
    "#model building\n",
    "linear_svc=LinearSVC()\n",
    "linear_svc.fit(text_train,sent_train)\n",
    "y_prediction=linear_svc.predict(text_test)"
   ]
  },
  {
   "cell_type": "code",
   "execution_count": 12,
   "metadata": {},
   "outputs": [
    {
     "name": "stdout",
     "output_type": "stream",
     "text": [
      "               precision    recall  f1-score   support\n",
      "\n",
      "      CLIMATE       0.95      0.96      0.96      2958\n",
      "      SCIENCE       0.95      0.90      0.92      2278\n",
      "      SOCIETY       0.97      0.96      0.96      2754\n",
      "     BUSINESS       0.86      0.86      0.86      4325\n",
      "     SCI-TECH       0.84      0.83      0.84      4269\n",
      "       SPORTS       0.92      0.96      0.94      4428\n",
      "ENTERTAINMENT       0.98      0.98      0.98      1420\n",
      "     POLITICS       0.97      0.97      0.97      1271\n",
      "    EDUCATION       0.98      0.99      0.98      1723\n",
      "\n",
      "  avg / total       0.92      0.92      0.92     25426\n",
      "\n"
     ]
    }
   ],
   "source": [
    "#classification report\n",
    "print(metrics.classification_report(sent_test,y_prediction, target_names=df['category'].unique()))"
   ]
  },
  {
   "cell_type": "code",
   "execution_count": 13,
   "metadata": {},
   "outputs": [],
   "source": [
    "# Saving classifier\n",
    "with open('classifier.pickle','wb') as f:\n",
    "    pickle.dump(linear_svc,f)\n",
    "    \n",
    "# Saving the Tf-Idf model\n",
    "with open('tfidfmodel.pickle','wb') as f:\n",
    "    pickle.dump(vectorizer,f)"
   ]
  },
  {
   "cell_type": "code",
   "execution_count": 14,
   "metadata": {},
   "outputs": [],
   "source": [
    "# Loading the vectorizer and classfier\n",
    "with open('classifier.pickle','rb') as f:\n",
    "    classifier = pickle.load(f)\n",
    "    \n",
    "with open('tfidfmodel.pickle','rb') as f:\n",
    "    tfidf = pickle.load(f)"
   ]
  },
  {
   "cell_type": "code",
   "execution_count": 15,
   "metadata": {},
   "outputs": [],
   "source": [
    "#Testing\n",
    "news=\"\"\"Global warming is a long-term rise in the average temperature of the Earth's climate system,\n",
    "an aspect of climate change shown by temperature measurements and by multiple effects of the warming\"\"\"\n",
    "sent = classifier.predict(tfidf.transform([news]).toarray())"
   ]
  },
  {
   "cell_type": "code",
   "execution_count": 16,
   "metadata": {},
   "outputs": [
    {
     "data": {
      "text/plain": [
       "array([0], dtype=int64)"
      ]
     },
     "execution_count": 16,
     "metadata": {},
     "output_type": "execute_result"
    }
   ],
   "source": [
    "#output\n",
    "sent"
   ]
  },
  {
   "cell_type": "code",
   "execution_count": null,
   "metadata": {},
   "outputs": [],
   "source": [
    "#creating pipeline of different models\n",
    "pipeline = Pipeline(steps=[('linear_svc',LinearSVC())])\n",
    "## Defining the parametrs grid\n",
    "params = {'linear_svc__penalty':['l1','l2'],'linear_svc__C':np.arange(1,10)}"
   ]
  },
  {
   "cell_type": "code",
   "execution_count": null,
   "metadata": {},
   "outputs": [],
   "source": [
    "#grid search implementation\n",
    "grid_search = GridSearchCV(estimator=pipeline, param_grid=params,cv=5)\n",
    "grid_search.fit(text_train,sent_train)\n",
    "y_prediction = grid_search.predict(text_test)"
   ]
  },
  {
   "cell_type": "code",
   "execution_count": null,
   "metadata": {},
   "outputs": [],
   "source": [
    "#best score\n",
    "grid_search.best_score_"
   ]
  },
  {
   "cell_type": "code",
   "execution_count": null,
   "metadata": {},
   "outputs": [],
   "source": [
    "#classification report\n",
    "print(metrics.classification_report(sent_test,y_prediction, target_names=df['category'].unique()))"
   ]
  },
  {
   "cell_type": "markdown",
   "metadata": {},
   "source": [
    "## Advance Implementation- Bagging for Variance Reduction"
   ]
  },
  {
   "cell_type": "code",
   "execution_count": 14,
   "metadata": {},
   "outputs": [],
   "source": [
    "#base learner\n",
    "dt = DecisionTreeClassifier(max_depth=4, min_samples_leaf=0.16)\n",
    "#Bagging-oob_score can be used further for testing\n",
    "bc = BaggingClassifier(base_estimator=dt, n_estimators=300,n_jobs=-1,oob_score=True)\n",
    "bc.fit(text_train,sent_train)\n",
    "ypred=bc.predict(text_test)"
   ]
  },
  {
   "cell_type": "code",
   "execution_count": null,
   "metadata": {},
   "outputs": [],
   "source": [
    "#Out of Bag score for validation\n",
    "oob_accuracy = bc.oob_score_\n",
    "print('OOB accuracy: {:.3f}'.format(oob_accuracy))"
   ]
  },
  {
   "cell_type": "code",
   "execution_count": null,
   "metadata": {},
   "outputs": [],
   "source": [
    "#accuracy\n",
    "print('Accuracy of Bagging Classifier: {:.3f}'.format(accuracy_score(sent_test, y_pred)))"
   ]
  },
  {
   "cell_type": "code",
   "execution_count": null,
   "metadata": {},
   "outputs": [],
   "source": [
    "#creating different parameter list\n",
    "xgbm_param_grid = {\n",
    "'learning_rate': [0.01,0.1,0.001,1],\n",
    "'n_estimators': [200,400],\n",
    "'subsample': [0.3, 0.5, 0.9]}"
   ]
  },
  {
   "cell_type": "code",
   "execution_count": null,
   "metadata": {},
   "outputs": [],
   "source": [
    "#implementing XGBClassifier on top of Bagging Classifier\n",
    "clf = xgb.XGBClassifier(base_estimator=bc)\n",
    "grid_search=GridSearchCV(estimator=clf,param_grid=xgbm_param_grid,cv=5)\n",
    "grid_search.fit(text_train,sent_train)"
   ]
  },
  {
   "cell_type": "code",
   "execution_count": null,
   "metadata": {},
   "outputs": [],
   "source": [
    "#getting best hyper-parameters \n",
    "best_hyperparams = grid_search.best_params_\n",
    "print('Best hyerparameters:\\n', best_hyperparams)"
   ]
  },
  {
   "cell_type": "code",
   "execution_count": null,
   "metadata": {},
   "outputs": [],
   "source": [
    "#best score\n",
    "best_CV_score = grid_search.best_score_\n",
    "print('Best CV accuracy'.format(best_CV_score))"
   ]
  },
  {
   "cell_type": "code",
   "execution_count": null,
   "metadata": {},
   "outputs": [],
   "source": [
    "#confusion metrics\n",
    "ypred = clf.predict(text_test)\n",
    "conf = confusion_matrix(sent_test,ypred)\n",
    "print(conf)"
   ]
  },
  {
   "cell_type": "code",
   "execution_count": null,
   "metadata": {},
   "outputs": [],
   "source": [
    "#classification report\n",
    "print(metrics.classification_report(sent_test,ypred, target_names=df['category'].unique()))"
   ]
  },
  {
   "cell_type": "markdown",
   "metadata": {},
   "source": [
    "## Advance Implementation- Using Voting Classifier"
   ]
  },
  {
   "cell_type": "code",
   "execution_count": null,
   "metadata": {},
   "outputs": [],
   "source": [
    "from sklearn.linear_model import LogisticRegression\n",
    "from sklearn.tree import DecisionTreeClassifier\n",
    "from sklearn.neighbors import KNeighborsClassifier as KNN\n",
    "#  VotingClassifier meta-model\n",
    "from sklearn.ensemble import VotingClassifier"
   ]
  },
  {
   "cell_type": "code",
   "execution_count": null,
   "metadata": {},
   "outputs": [],
   "source": [
    "#list of classifiers\n",
    "lr = LinearSVC(random_state=SEED)\n",
    "knn = KNN()\n",
    "dt = DecisionTreeClassifier(random_state=SEED)"
   ]
  },
  {
   "cell_type": "code",
   "execution_count": null,
   "metadata": {},
   "outputs": [],
   "source": [
    "#creating bag of different classifiers\n",
    "classifiers = [('LinearSVC', lr),('K Nearest Neighbours', knn),('Classification Tree', dt)]"
   ]
  },
  {
   "cell_type": "code",
   "execution_count": null,
   "metadata": {},
   "outputs": [],
   "source": [
    "#getting individual accuracy score of each classifier\n",
    "for clf_name, clf in classifiers:\n",
    "clf.fit(text_train,sent_train)\n",
    "y_pred = clf.predict(text_test)\n",
    "print('{:s} : {:.3f}'.format(clf_name,\n",
    "accuracy_score(sent_test, y_pred)))"
   ]
  },
  {
   "cell_type": "code",
   "execution_count": null,
   "metadata": {},
   "outputs": [],
   "source": [
    "#getting the score based on majority voting\n",
    "vc = VotingClassifier(estimators=classifiers)\n",
    "vc.fit(text_train,sent_train)\n",
    "y_pred = vc.predict(text_test)\n",
    "print('Voting Classifier: {.3f}'.format(accuracy_score(sent_test, y_pred)))"
   ]
  },
  {
   "cell_type": "code",
   "execution_count": null,
   "metadata": {},
   "outputs": [],
   "source": [
    "#classification report\n",
    "print(metrics.classification_report(sent_test,ypred, target_names=df['category'].unique()))"
   ]
  }
 ],
 "metadata": {
  "kernelspec": {
   "display_name": "Python 3",
   "language": "python",
   "name": "python3"
  },
  "language_info": {
   "codemirror_mode": {
    "name": "ipython",
    "version": 3
   },
   "file_extension": ".py",
   "mimetype": "text/x-python",
   "name": "python",
   "nbconvert_exporter": "python",
   "pygments_lexer": "ipython3",
   "version": "3.6.4"
  }
 },
 "nbformat": 4,
 "nbformat_minor": 2
}
